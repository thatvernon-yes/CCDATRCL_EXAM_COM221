{
  "cells": [
    {
      "cell_type": "markdown",
      "metadata": {
        "id": "view-in-github"
      },
      "source": [
        "<a href=\"https://colab.research.google.com/github/robitussin/CCDATRCL_EXAM/blob/main/exam1.ipynb\" target=\"_parent\"><img src=\"https://colab.research.google.com/assets/colab-badge.svg\" alt=\"Open In Colab\"/></a>"
      ]
    },
    {
      "cell_type": "markdown",
      "metadata": {
        "id": "yaz2B0KGFehP"
      },
      "source": [
        "# Midterm Exam 💛💙"
      ]
    },
    {
      "cell_type": "markdown",
      "metadata": {
        "id": "_DmK1ONEFehQ"
      },
      "source": [
        "**Instructions** ❗️❗️\n",
        "\n",
        "❌ Do not remove or modify the notebook **sections**, **subsections**, **exam questions** or **any text** in this python notebook\n",
        "\n",
        "✔️ Put your answer in the designated cells below each question"
      ]
    },
    {
      "cell_type": "markdown",
      "metadata": {
        "id": "TMCAXKWCFehR"
      },
      "source": [
        "## Search"
      ]
    },
    {
      "cell_type": "code",
      "execution_count": null,
      "metadata": {
        "id": "Fy8nEBRRFehR"
      },
      "outputs": [],
      "source": [
        "def linearSearch(my_list, number):\n",
        "\n",
        "    index = 0\n",
        "\n",
        "    for i in my_list:\n",
        "\n",
        "        if my_list[index] == number:\n",
        "            return index\n",
        "\n",
        "        index = index + 1\n",
        "\n",
        "    return -1"
      ]
    },
    {
      "cell_type": "markdown",
      "metadata": {
        "id": "AjAevpueFehS"
      },
      "source": [
        "1. Using **linear search**, write a `findLargestIncrease()` function to find the largest increase in value between two adjacent numbers in your student number `(10 points)`\n",
        "\n",
        "    **Example:**\n",
        "\n",
        "    student_number = [2,0,2,2,6,2,5,1,9,3]\n",
        "\n",
        "    **Expected Output:**\n",
        "\n",
        "    findLargestIncrease(student_number)\n",
        "\n",
        "    Output: Between 1 and 9\n",
        "\n",
        "    **Explanation:**\n",
        "\n",
        "    From this student_number, the largest increase happened from number 1 to number 9"
      ]
    },
    {
      "cell_type": "code",
      "execution_count": null,
      "metadata": {
        "id": "JE8nEfyJFehS"
      },
      "outputs": [],
      "source": [
        "# put your answer here\n",
        "\n",
        "def findLargestIncrease(my_list): #takes a list to compare\n",
        "  max_diff = 0\n",
        "  elem1 = 0\n",
        "  elem2 = 0\n",
        "\n",
        "  for i in range(len(my_list) - 1 ):\n",
        "    diff = my_list[i] - my_list[i + 1]\n",
        "\n",
        "    if diff < max_diff :\n",
        "      max_diff = diff\n",
        "      elem1 = my_list[i]\n",
        "      elem2 = my_list[i + 1]\n",
        "\n",
        "  print(\"Largest increase: \", elem1, \"and\", elem2)\n",
        "\n"
      ]
    },
    {
      "cell_type": "code",
      "source": [
        "ID_number = [2,0,2,2,1,0,6,4,6,9]\n",
        "\n",
        "findLargestIncrease(ID_number)"
      ],
      "metadata": {
        "colab": {
          "base_uri": "https://localhost:8080/"
        },
        "id": "760_M7i9WZxl",
        "outputId": "5bbbcbfa-f3d0-4185-b568-b3527dd25463"
      },
      "execution_count": null,
      "outputs": [
        {
          "output_type": "stream",
          "name": "stdout",
          "text": [
            "Largest increase:  0 and 6\n"
          ]
        }
      ]
    },
    {
      "cell_type": "markdown",
      "metadata": {
        "id": "nMyr1fNyFehS"
      },
      "source": [
        "2. Using **linear search**, write a `findLargestDecrease()` function to find the largest decrease in value between two adjacent numbers in your student number `(10 points)`\n",
        "\n",
        "    **Example:**\n",
        "\n",
        "    student_number = [2,0,2,2,6,2,5,1,9,3]\n",
        "\n",
        "    **Expected Output:**\n",
        "\n",
        "    findLargestDecrease(student_number)\n",
        "\n",
        "    Output: Between 9 and 3\n",
        "\n",
        "    **Explanation:**\n",
        "\n",
        "    From this student_number, the largest decrease happened from number 9 to number 3"
      ]
    },
    {
      "cell_type": "code",
      "execution_count": null,
      "metadata": {
        "id": "bfMfQVbVFehS"
      },
      "outputs": [],
      "source": [
        "# put your answer here\n",
        "\n",
        "def findLargestDecrease(my_list):\n",
        "  max_sum = 0\n",
        "  elem1 = 0\n",
        "  elem2 = 0\n",
        "\n",
        "  for i in range(len(my_list) - 1 ):\n",
        "    sum = my_list[i] + my_list[i + 1]\n",
        "\n",
        "    if sum > max_sum :\n",
        "      max_sum = sum\n",
        "      elem1 = my_list[i]\n",
        "      elem2 = my_list[i + 1]\n",
        "\n",
        "  print(\"Largest decrease: \", elem1, \"and\", elem2)\n"
      ]
    },
    {
      "cell_type": "code",
      "source": [
        "ID_number = [2,0,2,2,1,0,6,4,6,9]\n",
        "\n",
        "findLargestDecrease(ID_number)"
      ],
      "metadata": {
        "colab": {
          "base_uri": "https://localhost:8080/"
        },
        "id": "TxsgbBU1mGbH",
        "outputId": "d0b9f2a1-06d8-4574-f9e4-07ac3aa8bfa7"
      },
      "execution_count": null,
      "outputs": [
        {
          "output_type": "stream",
          "name": "stdout",
          "text": [
            "Largest decrease:  6 and 9\n"
          ]
        }
      ]
    },
    {
      "cell_type": "markdown",
      "metadata": {
        "id": "NtKSQn9QFehS"
      },
      "source": [
        "## Linked List"
      ]
    },
    {
      "cell_type": "code",
      "execution_count": null,
      "metadata": {
        "id": "0HP5zyJcFehS"
      },
      "outputs": [],
      "source": [
        "class Node:\n",
        "\n",
        "    def __init__(self, data):\n",
        "        self.data = data\n",
        "        self.next = None  # null"
      ]
    },
    {
      "cell_type": "code",
      "execution_count": null,
      "metadata": {
        "id": "A-8Uefe7FehS"
      },
      "outputs": [],
      "source": [
        "class LinkedList:\n",
        "\n",
        "    def __init__(self):\n",
        "        self.head = None\n",
        "\n",
        "    def traverse(self, node):\n",
        "        while node:\n",
        "            print(node.data, end=\",\")\n",
        "            node = node.next\n"
      ]
    },
    {
      "cell_type": "markdown",
      "metadata": {
        "id": "uPgIJJuSFehT"
      },
      "source": [
        "**Instructions** ❗️❗️\n",
        "\n",
        "Use the pre-defined linked list class/functions to create a linked list"
      ]
    },
    {
      "cell_type": "markdown",
      "metadata": {
        "id": "WIwpW7Q2FehT"
      },
      "source": [
        "1. Create a Singly linked list named **num_list** and print all of its elements. `(5 points)`\n",
        "\n",
        "- **num_list** should contain all digits of your student number.\n",
        "\n",
        "    **Expected Output:**\n",
        "\n",
        "    print(num_list)\n",
        "\n",
        "    [2, 0, 2, 2, 1, 2, 3, 4, 5, 6]"
      ]
    },
    {
      "cell_type": "code",
      "execution_count": null,
      "metadata": {
        "id": "Lihv0JPiFehT",
        "colab": {
          "base_uri": "https://localhost:8080/"
        },
        "outputId": "797d7883-cac4-4b9c-dcdb-0803aab6a67a"
      },
      "outputs": [
        {
          "output_type": "stream",
          "name": "stdout",
          "text": [
            "2,0,2,2,1,0,6,4,6,9,"
          ]
        }
      ],
      "source": [
        "# put your answer here\n",
        "\n",
        "num_list = LinkedList()\n",
        "\n",
        "num_list.head = Node(2)\n",
        "e2 = Node(0)\n",
        "e3 = Node(2)\n",
        "e4 = Node(2)\n",
        "e5 = Node(1)\n",
        "e6 = Node(0)\n",
        "e7 = Node(6)\n",
        "e8 = Node(4)\n",
        "e9 = Node(6)\n",
        "e10 = Node(9)\n",
        "\n",
        "num_list.head.next = e2\n",
        "e2.next = e3\n",
        "e3.next = e4\n",
        "e4.next = e5\n",
        "e5.next = e6\n",
        "e6.next = e7\n",
        "e7.next = e8\n",
        "e8.next = e9\n",
        "e9.next = e10\n",
        "\n",
        "num_list.traverse(num_list.head)"
      ]
    },
    {
      "cell_type": "markdown",
      "metadata": {
        "id": "dqA2UYrYFehT"
      },
      "source": [
        "2. Write a `hasPrime()` function to test whether a prime number is in the last six digits of **num_list**. `(5 points)`\n",
        "\n",
        "- If a prime number is in the last six digits of **num_list**, the method should return **true**\n",
        "\n",
        "- If a prime number is not in the last six digits of **num_list**, the method should return **false**\n",
        "\n",
        "    **Expected Output:**\n",
        "\n",
        "    hasPrime(num_list)\n",
        "\n",
        "    True"
      ]
    },
    {
      "cell_type": "code",
      "execution_count": null,
      "metadata": {
        "id": "GYwsQNz5FehT"
      },
      "outputs": [],
      "source": [
        "from re import X\n",
        "# put your answer here\n",
        "\n",
        "def hasPrime(num_list):\n",
        "\n",
        "  node = num_list.head\n",
        "  index = 0\n",
        "  x = False\n",
        "\n",
        "  while node != None:\n",
        "    index += 1\n",
        "\n",
        "    while index > 4:\n",
        "\n",
        "      if x == True:\n",
        "        break\n",
        "\n",
        "      if index > 3:\n",
        "\n",
        "        if node.data > 1:\n",
        "\n",
        "          for i in range(2, int(node.data/2)+1):\n",
        "\n",
        "              if (node.data % i) == 0:\n",
        "                  return False\n",
        "                  break\n",
        "          else:\n",
        "              return True\n",
        "        else:\n",
        "            return False\n",
        "\n",
        "    node = node.next"
      ]
    },
    {
      "cell_type": "code",
      "source": [
        "hasPrime(num_list)"
      ],
      "metadata": {
        "colab": {
          "base_uri": "https://localhost:8080/"
        },
        "id": "Bmy0rDqkyuGZ",
        "outputId": "9f07545f-1f15-4a5b-ca49-f7e9a67a6508"
      },
      "execution_count": null,
      "outputs": [
        {
          "output_type": "execute_result",
          "data": {
            "text/plain": [
              "False"
            ]
          },
          "metadata": {},
          "execution_count": 237
        }
      ]
    },
    {
      "cell_type": "markdown",
      "metadata": {
        "id": "5Qb0BOiwFehT"
      },
      "source": [
        "3. Write a `removeZeroes()` function to remove all occurrences of zeroes in **num_list**. `(5 points)`\n",
        "\n",
        "- If a zero is in **num_list**, return **num_list**\n",
        "\n",
        "- If there are no zeroes in **num_list**, return **\"no zeros found\"**\n",
        "\n",
        "    **Expected Output:**\n",
        "\n",
        "    removeZeroes(num_list)\n",
        "\n",
        "    [2, 2, 1, 2, 3, 4, 5, 6]"
      ]
    },
    {
      "cell_type": "code",
      "execution_count": null,
      "metadata": {
        "id": "k1vAHUYuFehT"
      },
      "outputs": [],
      "source": [
        "# put your answer here\n",
        "\n",
        "def removeZeroes(num_list):\n",
        "\n",
        "  temp = num_list.head\n",
        "\n",
        "  if(temp is not None):\n",
        "    if (temp.data == 0):\n",
        "                num_list.head = temp.next\n",
        "                temp = None\n",
        "                return\n",
        "    while(temp is not None):\n",
        "            if temp.data == 0:\n",
        "                break\n",
        "            prev = temp\n",
        "            temp = temp.next\n",
        "\n",
        "    if(temp == None):\n",
        "        return\n",
        "\n",
        "    prev.next = temp.next\n",
        "\n",
        "    temp = None\n",
        "\n",
        "\n"
      ]
    },
    {
      "cell_type": "code",
      "source": [
        "removeZeroes(num_list)\n",
        "num_list.traverse(num_list.head)"
      ],
      "metadata": {
        "colab": {
          "base_uri": "https://localhost:8080/"
        },
        "id": "c_4wlU_L8yGK",
        "outputId": "b8a43109-2356-4b00-aa90-8a77f0afc95c"
      },
      "execution_count": null,
      "outputs": [
        {
          "output_type": "stream",
          "name": "stdout",
          "text": [
            "2,2,2,1,6,4,6,9,"
          ]
        }
      ]
    },
    {
      "cell_type": "markdown",
      "metadata": {
        "id": "SKAlpglNFehT"
      },
      "source": [
        "4. Insert a dash symbol between the 4th and 5th digit in **num_list**. `(5 points)`\n",
        "\n",
        "    **Expected Output:**\n",
        "\n",
        "    print(num_list)\n",
        "\n",
        "    [2, 0, 2, 2, \"-\", 1, 2, 3, 4, 5, 6]"
      ]
    },
    {
      "cell_type": "code",
      "execution_count": null,
      "metadata": {
        "id": "vF7fimZ-FehT"
      },
      "outputs": [],
      "source": [
        "# put your answer here\n",
        "\n",
        "def insertNode(num_list, prev_node, new_data):\n",
        "\n",
        "    if prev_node is None:\n",
        "        print(\"The given previous node must inLinkedList.\")\n",
        "        return\n",
        "\n",
        "    new_node = Node(new_data)\n",
        "\n",
        "    new_node.next = prev_node.next\n",
        "\n",
        "    prev_node.next = new_node"
      ]
    },
    {
      "cell_type": "code",
      "source": [
        "insertNode(num_list, e4, \"-\")\n",
        "num_list.traverse(num_list.head)"
      ],
      "metadata": {
        "colab": {
          "base_uri": "https://localhost:8080/"
        },
        "id": "Z_LcHR0f-d-m",
        "outputId": "e3d1448e-ff91-489c-cb13-25aa9a667d27"
      },
      "execution_count": null,
      "outputs": [
        {
          "output_type": "stream",
          "name": "stdout",
          "text": [
            "2,2,2,-,1,6,4,6,9,"
          ]
        }
      ]
    },
    {
      "cell_type": "markdown",
      "metadata": {
        "id": "KkC-LgdxFehT"
      },
      "source": [
        "## Stack"
      ]
    },
    {
      "cell_type": "code",
      "execution_count": null,
      "metadata": {
        "id": "UYTqB1u_FehU"
      },
      "outputs": [],
      "source": [
        "# Creating a stack\n",
        "def create_stack():\n",
        "    stack = []\n",
        "    return stack\n",
        "\n",
        "\n",
        "def print_stack(stack):\n",
        "\n",
        "    if (check_empty(stack)):\n",
        "        return \"stack is empty\"\n",
        "\n",
        "    # Create a copy of the stack and reverse the elements\n",
        "    tempStack = stack.copy()\n",
        "    tempStack.reverse()\n",
        "\n",
        "    # Print all elements using a loop\n",
        "    for i in tempStack:\n",
        "        print(i)\n",
        "\n",
        "    # Delete the copy to free up memory\n",
        "    del tempStack\n",
        "\n",
        "# Creating an empty stack\n",
        "\n",
        "\n",
        "def check_empty(stack):\n",
        "    return len(stack) == 0\n",
        "\n",
        "\n",
        "# Adding items into the stack\n",
        "def push(stack, item):\n",
        "    stack.append(item)\n",
        "    print(\"pushed item: \" + item)\n",
        "\n",
        "\n",
        "# Removing an element from the stack\n",
        "def pop(stack):\n",
        "    if (check_empty(stack)):\n",
        "        return \"stack is empty\"\n",
        "\n",
        "    return stack.pop()\n",
        "\n",
        "\n",
        "def peek(stack):\n",
        "\n",
        "    # Use negative indexing to display the last element of the list\n",
        "    print(stack[-1])"
      ]
    },
    {
      "cell_type": "markdown",
      "metadata": {
        "id": "wLAQchs8FehU"
      },
      "source": [
        "**Instructions** ❗️❗️\n",
        "\n",
        "Use the pre-defined stack class/functions to create a stack"
      ]
    },
    {
      "cell_type": "markdown",
      "metadata": {
        "id": "37cg9BoCFehU"
      },
      "source": [
        "1. Create two (2) stacks named **name_stack** and **num_stack** `(5 points)`\n",
        "\n",
        "- **name_stack** should contain all letters of your first name.\n",
        "- **num_stack** should contain all digits of your student number.\n",
        "\n",
        "    **Expected Output:**\n",
        "\n",
        "    print(name_stack)\n",
        "\n",
        "    ['E', 'L', 'I', 'Z', 'E', 'R']\n",
        "\n",
        "    print(num_stack)\n",
        "\n",
        "    [2,0,2,2,1,2,3,4,5,6]"
      ]
    },
    {
      "cell_type": "code",
      "execution_count": null,
      "metadata": {
        "id": "HlUIUQzQFehU",
        "colab": {
          "base_uri": "https://localhost:8080/"
        },
        "outputId": "b9f6990c-e91c-4fb6-f072-1041f9dbbd7d"
      },
      "outputs": [
        {
          "output_type": "stream",
          "name": "stdout",
          "text": [
            "pushed item: V\n",
            "pushed item: E\n",
            "pushed item: R\n",
            "pushed item: N\n",
            "pushed item: O\n",
            "pushed item: N\n",
            "['V', 'E', 'R', 'N', 'O', 'N']\n",
            "pushed item: 2\n",
            "pushed item: 0\n",
            "pushed item: 2\n",
            "pushed item: 2\n",
            "pushed item: 1\n",
            "pushed item: 0\n",
            "pushed item: 6\n",
            "pushed item: 4\n",
            "pushed item: 6\n",
            "pushed item: 9\n",
            "['2', '0', '2', '2', '1', '0', '6', '4', '6', '9']\n"
          ]
        }
      ],
      "source": [
        "# put your answer here\n",
        "\n",
        "name_stack = create_stack()\n",
        "push(name_stack, \"V\")\n",
        "push(name_stack, \"E\")\n",
        "push(name_stack, \"R\")\n",
        "push(name_stack, \"N\")\n",
        "push(name_stack, \"O\")\n",
        "push(name_stack, \"N\")\n",
        "\n",
        "print(name_stack)\n",
        "\n",
        "\n",
        "num_stack = create_stack()\n",
        "push(num_stack, \"2\")\n",
        "push(num_stack, \"0\")\n",
        "push(num_stack, \"2\")\n",
        "push(num_stack, \"2\")\n",
        "push(num_stack, \"1\")\n",
        "push(num_stack, \"0\")\n",
        "push(num_stack, \"6\")\n",
        "push(num_stack, \"4\")\n",
        "push(num_stack, \"6\")\n",
        "push(num_stack, \"9\")\n",
        "print(num_stack)\n"
      ]
    },
    {
      "cell_type": "markdown",
      "metadata": {
        "id": "8cySe9LXFehU"
      },
      "source": [
        "2. Create a stack named **my_stack** that follows the following format: `(5 points)`\n",
        "\n",
        "- The first element should be the **5th digit in your student number**\n",
        "- The succeeding elements should be the letters of your **first name**\n",
        "- The last element should be the **last digit of your student number**\n",
        "\n",
        "    **Expected Output:**\n",
        "\n",
        "    my_stack = [1, E, L, I, Z, E, R, 6]"
      ]
    },
    {
      "cell_type": "code",
      "execution_count": null,
      "metadata": {
        "id": "bEnCoAhjFehU",
        "colab": {
          "base_uri": "https://localhost:8080/"
        },
        "outputId": "280a0b86-99fa-4a45-bc00-6f09f5f69567"
      },
      "outputs": [
        {
          "output_type": "stream",
          "name": "stdout",
          "text": [
            "pushed item: 1\n",
            "pushed item: V\n",
            "pushed item: E\n",
            "pushed item: R\n",
            "pushed item: N\n",
            "pushed item: O\n",
            "pushed item: N\n",
            "pushed item: 9\n",
            "['1', 'V', 'E', 'R', 'N', 'O', 'N', '9']\n"
          ]
        }
      ],
      "source": [
        "# put your answer here\n",
        "\n",
        "my_stack = create_stack()\n",
        "\n",
        "push(my_stack, \"1\")\n",
        "push(my_stack, \"V\")\n",
        "push(my_stack, \"E\")\n",
        "push(my_stack, \"R\")\n",
        "push(my_stack, \"N\")\n",
        "push(my_stack, \"O\")\n",
        "push(my_stack, \"N\")\n",
        "push(my_stack, \"9\")\n",
        "\n",
        "print(my_stack)\n"
      ]
    },
    {
      "cell_type": "markdown",
      "metadata": {
        "id": "8a8_KP5nFehU"
      },
      "source": [
        "3. Write a `verifyStack()` function that will take in `my_stack` and check if its format has been followed `(10 points)`\n",
        "\n",
        "- Return **True** if the format has been followed\n",
        "- Return **False** if the format was not followed\n",
        "- Verify the format by checking the contents of **my_stack** with **name_stack** and **num_stack**\n",
        "\n",
        "    **Expected Output:**\n",
        "\n",
        "    my_stack = [1, E, L, I, Z, E, R, 6]\n",
        "\n",
        "    verifyStack(my_stack)\n",
        "\n",
        "    True\n",
        "\n",
        "    my_stack = [1, S, L, I, Z, E, R, 7]\n",
        "\n",
        "    verifyStack(my_stack)\n",
        "\n",
        "    False"
      ]
    },
    {
      "cell_type": "code",
      "execution_count": null,
      "metadata": {
        "id": "RdANSxD0FehU"
      },
      "outputs": [],
      "source": [
        "# put your answer here\n",
        "\n",
        "def verifyStack(my_stack):\n",
        "  index = 0\n",
        "\n",
        "\n",
        "  if (num_stack[4] == my_stack[0]):\n",
        "    index + 1\n",
        "  else: return False\n",
        "\n",
        "  while index > 1 and index < 7:\n",
        "      if (my_stack[index] == name_stack[index]):\n",
        "       index += 1\n",
        "      else:\n",
        "        return False\n",
        "  if (my_stack[7] == num_stack[9]):\n",
        "      return True\n",
        "  else:\n",
        "      return False\n",
        "\n",
        "\n"
      ]
    },
    {
      "cell_type": "code",
      "source": [
        "\n",
        "my_stack2 = create_stack()\n",
        "push(my_stack2, \"1\")\n",
        "push(my_stack2, \"V\")\n",
        "push(my_stack2, \"E\")\n",
        "push(my_stack2, \"R\")\n",
        "push(my_stack2, \"N\")\n",
        "push(my_stack2, \"O\")\n",
        "push(my_stack2, \"N\")\n",
        "push(my_stack2, \"9\")\n",
        "verifyStack(my_stack2)"
      ],
      "metadata": {
        "colab": {
          "base_uri": "https://localhost:8080/"
        },
        "id": "mizF3ju5HPXP",
        "outputId": "90f05632-58e7-4669-eb1e-37d510235795"
      },
      "execution_count": null,
      "outputs": [
        {
          "output_type": "stream",
          "name": "stdout",
          "text": [
            "pushed item: 1\n",
            "pushed item: V\n",
            "pushed item: E\n",
            "pushed item: R\n",
            "pushed item: N\n",
            "pushed item: O\n",
            "pushed item: N\n",
            "pushed item: 9\n"
          ]
        },
        {
          "output_type": "execute_result",
          "data": {
            "text/plain": [
              "True"
            ]
          },
          "metadata": {},
          "execution_count": 355
        }
      ]
    },
    {
      "cell_type": "code",
      "source": [
        "my_stack1 = create_stack()\n",
        "push(my_stack1, \"1\")\n",
        "push(my_stack1, \"V\")\n",
        "push(my_stack1, \"E\")\n",
        "push(my_stack1, \"R\")\n",
        "push(my_stack1, \"N\")\n",
        "push(my_stack1, \"O\")\n",
        "push(my_stack1, \"N\")\n",
        "push(my_stack1, \"10\")\n",
        "verifyStack(my_stack1)"
      ],
      "metadata": {
        "colab": {
          "base_uri": "https://localhost:8080/"
        },
        "id": "RFNeQUyQQuAQ",
        "outputId": "34e30893-4ade-4869-8938-1d91f42c65a8"
      },
      "execution_count": null,
      "outputs": [
        {
          "output_type": "stream",
          "name": "stdout",
          "text": [
            "pushed item: 1\n",
            "pushed item: V\n",
            "pushed item: E\n",
            "pushed item: R\n",
            "pushed item: N\n",
            "pushed item: O\n",
            "pushed item: N\n",
            "pushed item: 10\n"
          ]
        },
        {
          "output_type": "execute_result",
          "data": {
            "text/plain": [
              "False"
            ]
          },
          "metadata": {},
          "execution_count": 356
        }
      ]
    },
    {
      "cell_type": "markdown",
      "metadata": {
        "id": "UC5C64B2FehU"
      },
      "source": [
        "## Queue"
      ]
    },
    {
      "cell_type": "code",
      "execution_count": null,
      "metadata": {
        "id": "NJJ0j0LHFehU"
      },
      "outputs": [],
      "source": [
        "class Queue:\n",
        "    def __init__(self):\n",
        "        self.queue = []\n",
        "\n",
        "    # Add an element\n",
        "    def enqueue(self, item):\n",
        "        self.queue.append(item)\n",
        "\n",
        "    # Remove an element\n",
        "    def dequeue(self):\n",
        "        if len(self.queue) < 1:\n",
        "            return None\n",
        "        return self.queue.pop(0)\n",
        "\n",
        "    # Display  the queue\n",
        "    def display(self):\n",
        "        print(self.queue)\n",
        "\n",
        "    def size(self):\n",
        "        return len(self.queue)\n",
        "\n",
        "    def peek(self):\n",
        "        return self.queue[0]"
      ]
    },
    {
      "cell_type": "markdown",
      "metadata": {
        "id": "80OekpbeFehV"
      },
      "source": [
        "**Instructions** ❗️❗️\n",
        "\n",
        "Use the pre-defined queue class/functions to create a Queue"
      ]
    },
    {
      "cell_type": "markdown",
      "metadata": {
        "id": "_Hf0OP5cFehV"
      },
      "source": [
        "1. Create a simple queue named **num_queue** `(5 points)`\n",
        "\n",
        "- **num_queue** should contain all digits of your student number.\n",
        "\n",
        "    **Expected Output:**\n",
        "\n",
        "    print(num_queue)\n",
        "\n",
        "    [2,0,2,2,1,2,3,4,5,6]"
      ]
    },
    {
      "cell_type": "code",
      "execution_count": null,
      "metadata": {
        "id": "_mgmE4ArFehV",
        "colab": {
          "base_uri": "https://localhost:8080/"
        },
        "outputId": "c3f078b0-97f7-4d7d-bd31-45b4d2732811"
      },
      "outputs": [
        {
          "output_type": "stream",
          "name": "stdout",
          "text": [
            "[2, 0, 2, 2, 1, 0, 6, 4, 6, 9]\n"
          ]
        }
      ],
      "source": [
        "# put your answer here\n",
        "\n",
        "num_queue = Queue()\n",
        "\n",
        "num_queue.enqueue(2)\n",
        "num_queue.enqueue(0)\n",
        "num_queue.enqueue(2)\n",
        "num_queue.enqueue(2)\n",
        "num_queue.enqueue(1)\n",
        "num_queue.enqueue(0)\n",
        "num_queue.enqueue(6)\n",
        "num_queue.enqueue(4)\n",
        "num_queue.enqueue(6)\n",
        "num_queue.enqueue(9)\n",
        "\n",
        "num_queue.display()"
      ]
    },
    {
      "cell_type": "markdown",
      "metadata": {
        "id": "1pHG8t6DFehV"
      },
      "source": [
        "2. Write a `getMax()` or `getMin()` function for **num_queue** `(5 points)`\n",
        "\n",
        "- If your student number ends with an odd number, create a `getMax()` function that will return the largest number in **num_queue**\n",
        "- If your student number ends with an even number, create a `getMin()` function that will return the lowest number in **num_queue**\n",
        "\n",
        "    **Expected Output for getMax():**\n",
        "\n",
        "    getMax(num_queue)\n",
        "\n",
        "    6\n",
        "\n",
        "    **Expected Output for getMin():**\n",
        "\n",
        "    getMin(num_queue)\n",
        "\n",
        "    0"
      ]
    },
    {
      "cell_type": "code",
      "execution_count": null,
      "metadata": {
        "id": "itj2U610FehV",
        "colab": {
          "base_uri": "https://localhost:8080/"
        },
        "outputId": "43a4bdd4-870e-4583-e3b3-a2fff0769db4"
      },
      "outputs": [
        {
          "output_type": "stream",
          "name": "stdout",
          "text": [
            "9\n"
          ]
        }
      ],
      "source": [
        "# put your answer here\n",
        "\n",
        "def getMax(num_queue):\n",
        "  maxx = 0\n",
        "  for i in num_queue.queue:\n",
        "    if i > maxx:\n",
        "      maxx = i\n",
        "  return maxx\n",
        "\n",
        "\n",
        "\n",
        "def getMin(num_queue):\n",
        "\n",
        "  minn = 9\n",
        "  for i in num_queue.queue:\n",
        "    if i < minn:\n",
        "      minn = i\n",
        "  return minn\n",
        "\n",
        "if num_queue.queue[len(num_queue.queue) - 1] % 2 != 0:\n",
        "  print(getMax(num_queue))\n",
        "else:\n",
        "  print(getMin(num_queue))\n",
        "\n",
        "\n"
      ]
    },
    {
      "cell_type": "markdown",
      "metadata": {
        "id": "YkgmP6GwFehV"
      },
      "source": [
        "3. Write a `getOdd()` or `getEven()` function for  **num_queue** `(5 points)`\n",
        "\n",
        "- If your student number ends with an **odd number**, create a `getOdd()` function that will return all odd numbers in **num_queue**\n",
        "- If your student number ends with an **even number**, create a `getEven()` function that will return all even numbers in **num_queue**\n",
        "\n",
        "    **Expected Output for getOdd():**\n",
        "\n",
        "    getOdd(num_queue)\n",
        "\n",
        "    [1, 3, 5]\n",
        "\n",
        "    **Expected Output for getEven():**\n",
        "\n",
        "    getEven(num_queue)\n",
        "\n",
        "    [0, 2, 4, 6]"
      ]
    },
    {
      "cell_type": "code",
      "execution_count": null,
      "metadata": {
        "id": "2Bc7E1zNFehV",
        "colab": {
          "base_uri": "https://localhost:8080/"
        },
        "outputId": "89ca2bb6-6a35-4b54-9ca3-a53f03c520bc"
      },
      "outputs": [
        {
          "output_type": "stream",
          "name": "stdout",
          "text": [
            "[1, 9]\n"
          ]
        }
      ],
      "source": [
        "# put your answer here\n",
        "\n",
        "def getOdd(num_queueu):\n",
        "  odd = []\n",
        "  for i in num_queue.queue:\n",
        "    if i % 2 != 0:\n",
        "      odd.append(i)\n",
        "  return odd\n",
        "\n",
        "\n",
        "def getEven(num_queueu):\n",
        "  even = []\n",
        "  for i in num_queue.queue:\n",
        "    if i % 2 == 0:\n",
        "      even.append(i)\n",
        "  return even\n",
        "\n",
        "\n",
        "if num_queue.queue[len(num_queue.queue) - 1] % 2 == 0:\n",
        "  print(getEven(num_queue))\n",
        "else:\n",
        "  print(getOdd(num_queue))"
      ]
    },
    {
      "cell_type": "markdown",
      "metadata": {
        "id": "kuzWF5g4FehV"
      },
      "source": [
        "4. Write a `removeDup()` function that will remove all duplicates in **num_queue** `(5 points)`\n",
        "\n",
        "    **Expected Output:**\n",
        "\n",
        "    removeDup(num_queue)\n",
        "\n",
        "    [2,0,1,3,4,5,6]"
      ]
    },
    {
      "cell_type": "code",
      "execution_count": null,
      "metadata": {
        "id": "I8LeQP8MFehY",
        "colab": {
          "base_uri": "https://localhost:8080/"
        },
        "outputId": "8b88987c-6d1d-47c7-9c44-314f5163f4cb"
      },
      "outputs": [
        {
          "output_type": "stream",
          "name": "stdout",
          "text": [
            "[2, 1, 0, 6, 4, 9]\n"
          ]
        }
      ],
      "source": [
        "# put your answer here\n",
        "\n",
        "def removeDup(num_queue):\n",
        "  temp = []\n",
        "  count = 0\n",
        "  for i in num_queue.queue:\n",
        "    if count == 0:\n",
        "      temp.append(i)\n",
        "    count = 1\n",
        "    nodupe = True\n",
        "    for j in temp:\n",
        "      if i == j:\n",
        "        nodupe = False\n",
        "    if nodupe:\n",
        "      temp.append(i)\n",
        "  print(temp)\n",
        "\n",
        "removeDup(num_queue)"
      ]
    },
    {
      "cell_type": "markdown",
      "metadata": {
        "id": "LVfZTh8YFehZ"
      },
      "source": [
        "## Sort"
      ]
    },
    {
      "cell_type": "markdown",
      "metadata": {
        "id": "bm9lonfzFehZ"
      },
      "source": [
        "**Instructions** ❗️❗️\n",
        "\n",
        "Use the any sorting algoritms"
      ]
    },
    {
      "cell_type": "markdown",
      "metadata": {
        "id": "EJTlxhEdFehZ"
      },
      "source": [
        "1. Using any sorting algorithm, sort the **last 6 digits** of your student number in ascending order `(5 points)`\n",
        "\n",
        "    **Example:**\n",
        "\n",
        "    student_number = [2,0,2,2,6,2,5,1,3,4]\n",
        "\n",
        "    **Expected Output:**\n",
        "\n",
        "    print(student_number)\n",
        "\n",
        "    [2,0,2,2,1,2,3,4,5,6]\n"
      ]
    },
    {
      "cell_type": "code",
      "execution_count": 466,
      "metadata": {
        "id": "MkZKfveOFehZ",
        "colab": {
          "base_uri": "https://localhost:8080/"
        },
        "outputId": "0a446a9d-431f-4702-c13f-f884a6e8a95c"
      },
      "outputs": [
        {
          "output_type": "stream",
          "name": "stdout",
          "text": [
            "[2, 0, 2, 2, 0, 1, 4, 6, 6, 9]\n"
          ]
        }
      ],
      "source": [
        "# put your answer here\n",
        "\n",
        "student_number = [2,0,2,2,1,0,6,4,6,9]\n",
        "\n",
        "for y in range(4, len(student_number)):\n",
        "    for j in range(4, len(student_number) - 1):\n",
        "      if student_number[j] > student_number[j + 1]:\n",
        "        temp = student_number[j]\n",
        "        student_number[j] = student_number[j+1]\n",
        "        student_number[j+1] = temp\n",
        "\n",
        "print(student_number)\n"
      ]
    },
    {
      "cell_type": "markdown",
      "metadata": {
        "id": "sC2JZRZMFehZ"
      },
      "source": [
        "2. Using your student_number, separately sort the even numbers in **increasing order** and the odd numbers in **decreasing order** `(15 points)`\n",
        "\n",
        "    **Example:**\n",
        "\n",
        "    student_number = [2,0,2,2,1,2,3,4,5,6]\n",
        "\n",
        "    **Expected Output:**\n",
        "\n",
        "    print(student_number)\n",
        "\n",
        "    [0,2,2,2,2,4,6,5,3,1]"
      ]
    },
    {
      "cell_type": "code",
      "execution_count": null,
      "metadata": {
        "id": "hWOh_ohcFehZ",
        "colab": {
          "base_uri": "https://localhost:8080/"
        },
        "outputId": "22a8dd2d-d8db-4376-b2fc-acf0c30302d5"
      },
      "outputs": [
        {
          "output_type": "stream",
          "name": "stdout",
          "text": [
            "[0, 0, 2, 2, 2, 4, 6, 6, 9, 1]\n"
          ]
        }
      ],
      "source": [
        "# put your answer here\n",
        "\n",
        "student_number = [2,0,2,2,1,0,6,4,6,9]\n",
        "Even = []\n",
        "Odd = []\n",
        "\n",
        "for y in student_number:\n",
        "  if y % 2 == 0:\n",
        "    Even.append(y)\n",
        "  else:\n",
        "    Odd.append(y)\n",
        "\n",
        "for y in range(0, len(Even)):\n",
        "    for j in range(0, len(Even) - 1):\n",
        "      if Even[j] > Even[j + 1]:\n",
        "        temp = Even[j]\n",
        "        Even[j] = Even[j+1]\n",
        "        Even[j+1] = temp\n",
        "\n",
        "\n",
        "for y in range(0, len(Odd)):\n",
        "    for j in range(0, len(Odd) - 1):\n",
        "      if Odd[j] < Odd[j + 1]:\n",
        "        temp = Odd[j]\n",
        "        Odd[j] = Odd[j+1]\n",
        "        Odd[j+1] = temp\n",
        "\n",
        "student_number = Even + Odd\n",
        "print(student_number)\n"
      ]
    }
  ],
  "metadata": {
    "kernelspec": {
      "display_name": "Python 3",
      "language": "python",
      "name": "python3"
    },
    "language_info": {
      "codemirror_mode": {
        "name": "ipython",
        "version": 3
      },
      "file_extension": ".py",
      "mimetype": "text/x-python",
      "name": "python",
      "nbconvert_exporter": "python",
      "pygments_lexer": "ipython3",
      "version": "3.9.13"
    },
    "orig_nbformat": 4,
    "colab": {
      "provenance": []
    }
  },
  "nbformat": 4,
  "nbformat_minor": 0
}